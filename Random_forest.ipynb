{
 "cells": [
  {
   "cell_type": "markdown",
   "id": "22fa6754",
   "metadata": {},
   "source": [
    "## Random Forest & Ensemble learning"
   ]
  },
  {
   "cell_type": "code",
   "execution_count": 23,
   "id": "1685ff7a",
   "metadata": {},
   "outputs": [],
   "source": [
    "from sklearn.ensemble import BaggingClassifier                         # Import bagging classifier\n",
    "from sklearn.tree import DecisionTreeClassifier                        # Import decision tree classifier\n",
    "from sklearn.ensemble import RandomForestClassifier                    # Import random forest classifier\n",
    "from sklearn.ensemble import AdaBoostClassifier                        # Import Ada boost classifier\n",
    "from sklearn.ensemble import GradientBoostingClassifier                # Import Gradient boost classifier\n",
    "from sklearn.preprocessing import LabelEncoder                         # Encoding categorical data\n",
    "from sklearn.model_selection import train_test_split                   # Splitting dataset into traning and testing sets\n",
    "from sklearn.metrics import classification_report, confusion_matrix    # Evaluting the performance of the classifier\n",
    "\n",
    "# More performance metrics\n",
    "from sklearn import metrics\n",
    "from sklearn.metrics import accuracy_score\n",
    "from sklearn.metrics import precision_score\n",
    "from sklearn.metrics import recall_score\n",
    "from sklearn.metrics import f1_score\n",
    "from sklearn.metrics import roc_auc_score\n",
    "\n",
    "import pandas as pd\n",
    "import numpy as np\n",
    "import matplotlib.pyplot as plt"
   ]
  },
  {
   "cell_type": "code",
   "execution_count": 24,
   "id": "b709ee2b",
   "metadata": {},
   "outputs": [],
   "source": [
    "df = pd.read_csv('heart_disease.csv')\n",
    "\n",
    "cat_features = df.select_dtypes(include = \"object\").columns\n",
    "\n",
    "le = LabelEncoder()\n",
    "for col in cat_features:\n",
    "    df[col] = le.fit_transform(df[col].astype(str))"
   ]
  },
  {
   "cell_type": "code",
   "execution_count": 25,
   "id": "83390bfa",
   "metadata": {},
   "outputs": [],
   "source": [
    "y = df['HeartDisease']\n",
    "X = df.drop('HeartDisease',axis=1)\n",
    "X_train, X_test, y_train, y_test = train_test_split(X, y, test_size = .2, random_state = 42)"
   ]
  },
  {
   "cell_type": "markdown",
   "id": "f1d31f5a",
   "metadata": {},
   "source": [
    "### Implement Random Forest Classifier"
   ]
  },
  {
   "cell_type": "code",
   "execution_count": 26,
   "id": "58b133a5",
   "metadata": {},
   "outputs": [],
   "source": [
    "rnd_clf = RandomForestClassifier(n_estimators=500, max_leaf_nodes=16, random_state=42)\n",
    "rnd_clf.fit(X_train, y_train)\n",
    "\n",
    "y_pred_rf = rnd_clf.predict(X_test)"
   ]
  },
  {
   "cell_type": "markdown",
   "id": "c2f814e9",
   "metadata": {},
   "source": [
    "### Implement Bagging Classifier"
   ]
  },
  {
   "cell_type": "code",
   "execution_count": 27,
   "id": "ccf4ff52",
   "metadata": {},
   "outputs": [],
   "source": [
    "bag_clf = BaggingClassifier(\n",
    "    DecisionTreeClassifier(max_features=\"sqrt\", max_leaf_nodes=16),\n",
    "    n_estimators=500, random_state=42)\n",
    "\n",
    "bag_clf.fit(X_train, y_train)\n",
    "y_pred = bag_clf.predict(X_test)"
   ]
  },
  {
   "cell_type": "code",
   "execution_count": 28,
   "id": "f758d623",
   "metadata": {},
   "outputs": [
    {
     "data": {
      "text/plain": [
       "1.0"
      ]
     },
     "execution_count": 28,
     "metadata": {},
     "output_type": "execute_result"
    }
   ],
   "source": [
    "np.sum(y_pred == y_pred_rf) / len(y_pred)  # very similar predictions"
   ]
  },
  {
   "cell_type": "markdown",
   "id": "fa6b6b87",
   "metadata": {},
   "source": [
    "### Implement Adaboost Classifier"
   ]
  },
  {
   "cell_type": "code",
   "execution_count": 29,
   "id": "5205c24e",
   "metadata": {},
   "outputs": [
    {
     "data": {
      "text/plain": [
       "AdaBoostClassifier(base_estimator=DecisionTreeClassifier(max_depth=1),\n",
       "                   learning_rate=0.5, n_estimators=200, random_state=42)"
      ]
     },
     "execution_count": 29,
     "metadata": {},
     "output_type": "execute_result"
    }
   ],
   "source": [
    "from sklearn.ensemble import AdaBoostClassifier\n",
    "\n",
    "ada_clf = AdaBoostClassifier(DecisionTreeClassifier(max_depth=1), n_estimators=200, algorithm=\"SAMME.R\", learning_rate=0.5, random_state=42)\n",
    "ada_clf.fit(X_train, y_train)"
   ]
  },
  {
   "cell_type": "markdown",
   "id": "17f76b3f",
   "metadata": {},
   "source": [
    "### Implement Gradient Boosting Classifier"
   ]
  },
  {
   "cell_type": "code",
   "execution_count": 32,
   "id": "7a04add0",
   "metadata": {},
   "outputs": [
    {
     "data": {
      "text/plain": [
       "GradientBoostingClassifier(learning_rate=0.5, n_estimators=200, random_state=0)"
      ]
     },
     "execution_count": 32,
     "metadata": {},
     "output_type": "execute_result"
    }
   ],
   "source": [
    "gb_clf = GradientBoostingClassifier(n_estimators=200, learning_rate=0.5, random_state = 0)\n",
    "gb_clf.fit(X_train, y_train)"
   ]
  },
  {
   "cell_type": "markdown",
   "id": "3b59db14",
   "metadata": {},
   "source": [
    "### Comparing ROC curves of multiple models"
   ]
  },
  {
   "cell_type": "code",
   "execution_count": 33,
   "id": "ae88cf69",
   "metadata": {},
   "outputs": [
    {
     "name": "stdout",
     "output_type": "stream",
     "text": [
      "Ada boost - ROC AUC: 0.836215\n",
      "Gradient boost - ROC AUC: 0.838049\n"
     ]
    },
    {
     "data": {
      "image/png": "[encoded data removed]",
      "text/plain": [
       "<Figure size 640x480 with 1 Axes>"
      ]
     },
     "metadata": {},
     "output_type": "display_data"
    }
   ],
   "source": [
    "# ROC AUC\n",
    "y_hat = ada_clf.predict_proba(X_test)\n",
    "y_hat_gb = gb_clf.predict_proba(X_test)\n",
    "\n",
    "auc = roc_auc_score(y_test, y_hat[:,1])\n",
    "print('Ada boost - ROC AUC: %f' % auc)\n",
    "\n",
    "auc = roc_auc_score(y_test, y_hat_gb[:,1])\n",
    "print('Gradient boost - ROC AUC: %f' % auc)\n",
    "\n",
    "fpr, tpr, _ = metrics.roc_curve(y_test, y_hat[:,1])\n",
    "fpr_gb, tpr_gb, _ = metrics.roc_curve(y_test, y_hat_gb[:,1])\n",
    "\n",
    "plt.clf()\n",
    "plt.plot(fpr, tpr, label=\"Adaboost\")\n",
    "plt.plot(fpr_gb, tpr_gb, label=\"Gradient Boost\")\n",
    "plt.xlabel('FPR')\n",
    "plt.ylabel('TPR')\n",
    "plt.title('ROC curve')\n",
    "plt.legend()\n",
    "plt.show()"
   ]
  },
  {
   "cell_type": "code",
   "execution_count": null,
   "id": "c29b0d63",
   "metadata": {},
   "outputs": [],
   "source": []
  }
 ],
 "metadata": {
  "kernelspec": {
   "display_name": "Python 3 (ipykernel)",
   "language": "python",
   "name": "python3"
  },
  "language_info": {
   "codemirror_mode": {
    "name": "ipython",
    "version": 3
   },
   "file_extension": ".py",
   "mimetype": "text/x-python",
   "name": "python",
   "nbconvert_exporter": "python",
   "pygments_lexer": "ipython3",
   "version": "3.7.13"
  }
 },
 "nbformat": 4,
 "nbformat_minor": 5
}
